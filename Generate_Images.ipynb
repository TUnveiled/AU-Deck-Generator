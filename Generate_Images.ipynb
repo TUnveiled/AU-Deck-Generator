{
  "nbformat": 4,
  "nbformat_minor": 0,
  "metadata": {
    "colab": {
      "provenance": []
    },
    "kernelspec": {
      "name": "python3",
      "display_name": "Python 3"
    },
    "language_info": {
      "name": "python"
    }
  },
  "cells": [
    {
      "cell_type": "markdown",
      "source": [
        "#TTS DECK IMAGE CREATOR\n",
        "##Prerequisites\n",
        "1. Place this script in a Google Drive folder with the Google Sheet you want to create.\n",
        "2. Create a folder within the folder above that you want to export the decklist(s) to.\n",
        "3. Upload the *Images* folder inside the folder as well.\n",
        "\n",
        "##Script Instructions\n",
        "1. Change *FOLDER_LOCATION* to the folder where this script is (keep the /)\n",
        "2. Change *SHEET_NAME* to the name of the Google Sheet you wish to import from\n",
        "3. Change *OUTPUT_FOLDER* to the name of your output folder (keep the /)\n",
        "4. Once you have done all the required setup, your file structure should look like:\n",
        "  - *FOLDER_LOCATION*\n",
        "    - *Images*\n",
        "    - *OUTPUT_FOLDER*\n",
        "    - *SHEET_NAME*\n",
        "    - *Generate Images.ipynb*\n",
        "5. Click *Runtime* at the top, then select *Run all*.\n",
        "6. You will be asked to sign in to Google. The script will not complete unless you do but if you don't trust my code, now is the time to turn back lmao.\n",
        "7. It will take a minute or two to resolve, then your deck images will be in *OUTPUT_FOLDER*, ready to import into TTS.\n",
        "\n",
        "##TTS Import Instructions\n",
        "1. Go to Objects->Components->Cards->Custom Deck.\n",
        "2. Place the deck then right click.\n",
        "3. Choose the image created by this script as the Face Image.\n",
        "4. Choose any image as the Back. Resize it to 750x1050 for best results.\n",
        "5. Set Width to 10, Height to 6.\n",
        "6. Enter deck size. Usually 49 unless you're playing Law.\n",
        "7. Check *Hidden as Back* to make the cards look like your card back when in your hand.\n",
        "8. Click Import and wait, it should be done in 10 seconds tops."
      ],
      "metadata": {
        "id": "0SeMT9bcusTQ"
      }
    },
    {
      "cell_type": "code",
      "source": [
        "# CHANGE THE PARAMETERS HERE BEFORE RUNNING\n",
        "FOLDER_LOCATION = \"/content/drive/MyDrive/AU/\"\n",
        "SHEET_NAME = \"AU_Decklists_V0.5.6\"\n",
        "OUTPUT_FOLDER = \"Deck_TTS_Images/\""
      ],
      "metadata": {
        "id": "MPWQ_7abqJW1"
      },
      "execution_count": 1,
      "outputs": []
    },
    {
      "cell_type": "code",
      "execution_count": 7,
      "metadata": {
        "id": "SkmujRtdWJ8h",
        "colab": {
          "base_uri": "https://localhost:8080/"
        },
        "outputId": "3d459ff5-8cc2-4b85-a0f2-42b427d6ad98"
      },
      "outputs": [
        {
          "output_type": "stream",
          "name": "stdout",
          "text": [
            "\u001b[2K     \u001b[90m━━━━━━━━━━━━━━━━━━━━━━━━━━━━━━━━━━━━━━━━\u001b[0m \u001b[32m12.3/12.3 MB\u001b[0m \u001b[31m28.0 MB/s\u001b[0m eta \u001b[36m0:00:00\u001b[0m\n",
            "\u001b[2K     \u001b[90m━━━━━━━━━━━━━━━━━━━━━━━━━━━━━━━━━━━━━━━━\u001b[0m \u001b[32m92.0/92.0 kB\u001b[0m \u001b[31m12.3 MB/s\u001b[0m eta \u001b[36m0:00:00\u001b[0m\n",
            "\u001b[?25h  Preparing metadata (setup.py) ... \u001b[?25l\u001b[?25hdone\n",
            "\u001b[2K     \u001b[90m━━━━━━━━━━━━━━━━━━━━━━━━━━━━━━━━━━━━━━━━\u001b[0m \u001b[32m315.9/315.9 kB\u001b[0m \u001b[31m31.5 MB/s\u001b[0m eta \u001b[36m0:00:00\u001b[0m\n",
            "\u001b[2K     \u001b[90m━━━━━━━━━━━━━━━━━━━━━━━━━━━━━━━━━━━━━━━━\u001b[0m \u001b[32m75.6/75.6 kB\u001b[0m \u001b[31m10.0 MB/s\u001b[0m eta \u001b[36m0:00:00\u001b[0m\n",
            "\u001b[2K     \u001b[90m━━━━━━━━━━━━━━━━━━━━━━━━━━━━━━━━━━━━━━━━\u001b[0m \u001b[32m142.5/142.5 kB\u001b[0m \u001b[31m12.0 MB/s\u001b[0m eta \u001b[36m0:00:00\u001b[0m\n",
            "\u001b[2K     \u001b[90m━━━━━━━━━━━━━━━━━━━━━━━━━━━━━━━━━━━━━━━━\u001b[0m \u001b[32m8.8/8.8 MB\u001b[0m \u001b[31m45.8 MB/s\u001b[0m eta \u001b[36m0:00:00\u001b[0m\n",
            "\u001b[2K     \u001b[90m━━━━━━━━━━━━━━━━━━━━━━━━━━━━━━━━━━━━━━━━\u001b[0m \u001b[32m47.2/47.2 kB\u001b[0m \u001b[31m5.4 MB/s\u001b[0m eta \u001b[36m0:00:00\u001b[0m\n",
            "\u001b[2K     \u001b[90m━━━━━━━━━━━━━━━━━━━━━━━━━━━━━━━━━━━━━━━━\u001b[0m \u001b[32m60.8/60.8 kB\u001b[0m \u001b[31m6.2 MB/s\u001b[0m eta \u001b[36m0:00:00\u001b[0m\n",
            "\u001b[2K     \u001b[90m━━━━━━━━━━━━━━━━━━━━━━━━━━━━━━━━━━━━━━━━\u001b[0m \u001b[32m129.9/129.9 kB\u001b[0m \u001b[31m15.4 MB/s\u001b[0m eta \u001b[36m0:00:00\u001b[0m\n",
            "\u001b[2K     \u001b[90m━━━━━━━━━━━━━━━━━━━━━━━━━━━━━━━━━━━━━━━━\u001b[0m \u001b[32m77.9/77.9 kB\u001b[0m \u001b[31m9.5 MB/s\u001b[0m eta \u001b[36m0:00:00\u001b[0m\n",
            "\u001b[2K     \u001b[90m━━━━━━━━━━━━━━━━━━━━━━━━━━━━━━━━━━━━━━━━\u001b[0m \u001b[32m58.3/58.3 kB\u001b[0m \u001b[31m7.2 MB/s\u001b[0m eta \u001b[36m0:00:00\u001b[0m\n",
            "\u001b[2K     \u001b[90m━━━━━━━━━━━━━━━━━━━━━━━━━━━━━━━━━━━━━━━━\u001b[0m \u001b[32m71.9/71.9 kB\u001b[0m \u001b[31m9.2 MB/s\u001b[0m eta \u001b[36m0:00:00\u001b[0m\n",
            "\u001b[2K     \u001b[90m━━━━━━━━━━━━━━━━━━━━━━━━━━━━━━━━━━━━━━━━\u001b[0m \u001b[32m53.6/53.6 kB\u001b[0m \u001b[31m6.6 MB/s\u001b[0m eta \u001b[36m0:00:00\u001b[0m\n",
            "\u001b[2K     \u001b[90m━━━━━━━━━━━━━━━━━━━━━━━━━━━━━━━━━━━━━━━━\u001b[0m \u001b[32m307.7/307.7 kB\u001b[0m \u001b[31m31.2 MB/s\u001b[0m eta \u001b[36m0:00:00\u001b[0m\n",
            "\u001b[2K     \u001b[90m━━━━━━━━━━━━━━━━━━━━━━━━━━━━━━━━━━━━━━━━\u001b[0m \u001b[32m341.4/341.4 kB\u001b[0m \u001b[31m28.7 MB/s\u001b[0m eta \u001b[36m0:00:00\u001b[0m\n",
            "\u001b[2K     \u001b[90m━━━━━━━━━━━━━━━━━━━━━━━━━━━━━━━━━━━━━━━━\u001b[0m \u001b[32m3.4/3.4 MB\u001b[0m \u001b[31m61.8 MB/s\u001b[0m eta \u001b[36m0:00:00\u001b[0m\n",
            "\u001b[2K     \u001b[90m━━━━━━━━━━━━━━━━━━━━━━━━━━━━━━━━━━━━━━━━\u001b[0m \u001b[32m1.3/1.3 MB\u001b[0m \u001b[31m64.9 MB/s\u001b[0m eta \u001b[36m0:00:00\u001b[0m\n",
            "\u001b[?25h  Building wheel for ffmpy (setup.py) ... \u001b[?25l\u001b[?25hdone\n",
            "\u001b[31mERROR: pip's dependency resolver does not currently take into account all the packages that are installed. This behaviour is the source of the following dependency conflicts.\n",
            "spacy 3.7.4 requires typer<0.10.0,>=0.3.0, but you have typer 0.12.3 which is incompatible.\n",
            "weasel 0.3.4 requires typer<0.10.0,>=0.3.0, but you have typer 0.12.3 which is incompatible.\u001b[0m\u001b[31m\n",
            "\u001b[0m"
          ]
        }
      ],
      "source": [
        "# Required Installs\n",
        "!pip install --upgrade -q gspread"
      ]
    },
    {
      "cell_type": "code",
      "source": [
        "# Required Libraries\n",
        "import gspread\n",
        "import os\n",
        "import pandas as pd\n",
        "import PIL as pil\n",
        "from google.colab import auth\n",
        "auth.authenticate_user()\n",
        "from google.auth import default\n",
        "from google.colab import drive\n",
        "\n",
        "# Open the Google Sheet\n",
        "drive.mount(\"/content/drive/\")\n",
        "creds, _ = default()\n",
        "gc = gspread.authorize(creds)\n",
        "worksheets = gc.open(SHEET_NAME)"
      ],
      "metadata": {
        "id": "6yjM5_jGWpqd",
        "colab": {
          "base_uri": "https://localhost:8080/"
        },
        "outputId": "1e0f9098-2faf-4acc-91c5-4f4bb4b25f54"
      },
      "execution_count": 3,
      "outputs": [
        {
          "output_type": "stream",
          "name": "stdout",
          "text": [
            "Drive already mounted at /content/drive/; to attempt to forcibly remount, call drive.mount(\"/content/drive/\", force_remount=True).\n"
          ]
        }
      ]
    },
    {
      "cell_type": "code",
      "source": [
        "# Get all the card images\n",
        "image_dict = {}\n",
        "for image_name in os.listdir(FOLDER_LOCATION + \"Images\"):\n",
        "  image_dict[int(image_name[str.rindex(image_name, \"_\")+1:str.rindex(image_name,\".\")])] = pil.Image.open(FOLDER_LOCATION + \"Images/\" + image_name)"
      ],
      "metadata": {
        "id": "lMHjaCP2gcYn"
      },
      "execution_count": 4,
      "outputs": []
    },
    {
      "cell_type": "code",
      "source": [
        "# Get the sheet names from the Google Sheet (used for deck names)\n",
        "worksheet_metadata = worksheets.fetch_sheet_metadata()['sheets']\n",
        "keys = []\n",
        "for i in range(len(worksheet_metadata)):\n",
        "  keys.append(worksheet_metadata[i]['properties']['title'])"
      ],
      "metadata": {
        "id": "c1xA264bXcnP"
      },
      "execution_count": 5,
      "outputs": []
    },
    {
      "cell_type": "code",
      "source": [
        "# Create the deck images\n",
        "for i in range(len(keys)): # for each Sheet create one deck\n",
        "  rows = worksheets.get_worksheet(i).get_all_values()\n",
        "  card_ids = []\n",
        "  for j in range(1, len(rows)): # Get the ID of each card in the deck\n",
        "    if rows[j][1]:\n",
        "      for k in range(int(rows[j][0])):\n",
        "        card_ids.append(j-1)\n",
        "  output = pil.Image.new(\"RGB\",(7500, 6300)) # Create output image\n",
        "  for j in range(len(card_ids)): # Paste the card images into the correct locations\n",
        "    offset = ((j * 750) % 7500, (j // 10) * 1050)\n",
        "    output.paste(image_dict[card_ids[j]], offset)\n",
        "  output.save(FOLDER_LOCATION + OUTPUT_FOLDER + keys[i] + \".png\") # Save the final image"
      ],
      "metadata": {
        "id": "PQh5522yaOjM"
      },
      "execution_count": 6,
      "outputs": []
    }
  ]
}